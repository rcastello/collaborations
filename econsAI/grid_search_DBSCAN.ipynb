{
 "cells": [
  {
   "cell_type": "code",
   "execution_count": 1,
   "metadata": {},
   "outputs": [],
   "source": [
    "import numpy as np\n",
    "import matplotlib.pyplot as plt\n",
    "import pandas as pd\n",
    "from sklearn.cluster import DBSCAN\n",
    "from sklearn import metrics\n",
    "from sklearn.linear_model import LinearRegression, Ridge\n",
    "from sklearn.ensemble import RandomForestRegressor\n",
    "from sklearn.model_selection import cross_val_score, TimeSeriesSplit\n",
    "from datetime import timedelta\n",
    "\n",
    "import warnings\n",
    "warnings.filterwarnings('ignore')\n",
    "\n",
    "from copy import deepcopy\n",
    "\n",
    "from helpers_preprocessing import *\n",
    "from helpers_postprocessing import *\n",
    "from helpers_clustering import *\n",
    "from helpers_plot import *\n",
    "from helpers_modelweek import *\n",
    "from helpers_linear_regression import *\n",
    "from building_routine import analyze_building\n",
    "\n",
    "%matplotlib inline\n",
    "%load_ext autoreload\n",
    "%autoreload 2"
   ]
  },
  {
   "cell_type": "markdown",
   "metadata": {},
   "source": [
    "\n",
    "# 1. Data loading and cleaning"
   ]
  },
  {
   "cell_type": "markdown",
   "metadata": {},
   "source": [
    "## 1.1 Load and clean the full dataset\n",
    "\n",
    "+ `data_raw`: contains all rows and columns (headers removed in the .csv)\n",
    "+ `data`: output resulting after selecting only energy consumption columns and applying row cleaning (wrong measurement times are deleted)\n",
    "+ `data_clean`: dataset containing only columns (buildings) from `data` that do not have NaN measurements"
   ]
  },
  {
   "cell_type": "code",
   "execution_count": 3,
   "metadata": {},
   "outputs": [
    {
     "name": "stdout",
     "output_type": "stream",
     "text": [
      "Shape of raw dataset: \n",
      " (68555, 835)\n"
     ]
    }
   ],
   "source": [
    "# Load the raw dataset\n",
    "data_path = \"data/data.csv\"\n",
    "data_raw = load_data(data_path)"
   ]
  },
  {
   "cell_type": "code",
   "execution_count": 4,
   "metadata": {
    "scrolled": false
   },
   "outputs": [
    {
     "name": "stdout",
     "output_type": "stream",
     "text": [
      "FORMATTING DATA...\n",
      "Index (datetime) unique: \n",
      " True\n",
      "Shape of formatted dataset: \n",
      " (65856, 145)\n",
      "First measurement: \n",
      " 2018-01-01 00:00:00\n",
      "Last measurement: \n",
      " 2019-11-17 23:45:00\n",
      "\n",
      "REMOVING NANS...\n",
      "Number of dropped columns: \n",
      " 32\n",
      "Shape of dataset after NaN handling: \n",
      " (65856, 113)\n",
      "\n",
      "REMOVING SMALL BULIDINGS...\n",
      "Number of dropped columns: \n",
      " 8\n",
      "Shape of dataset after removing small buildings: \n",
      " (65856, 105)\n",
      "\n",
      "RENUMBERING COLUMNS...\n",
      "Total number of buildings: \n",
      " 105\n"
     ]
    },
    {
     "data": {
      "text/html": [
       "<div>\n",
       "<style scoped>\n",
       "    .dataframe tbody tr th:only-of-type {\n",
       "        vertical-align: middle;\n",
       "    }\n",
       "\n",
       "    .dataframe tbody tr th {\n",
       "        vertical-align: top;\n",
       "    }\n",
       "\n",
       "    .dataframe thead th {\n",
       "        text-align: right;\n",
       "    }\n",
       "</style>\n",
       "<table border=\"1\" class=\"dataframe\">\n",
       "  <thead>\n",
       "    <tr style=\"text-align: right;\">\n",
       "      <th></th>\n",
       "      <th>building_1</th>\n",
       "      <th>building_2</th>\n",
       "      <th>building_3</th>\n",
       "      <th>building_4</th>\n",
       "      <th>building_5</th>\n",
       "      <th>building_6</th>\n",
       "      <th>building_7</th>\n",
       "      <th>building_8</th>\n",
       "      <th>building_9</th>\n",
       "      <th>building_10</th>\n",
       "      <th>...</th>\n",
       "      <th>building_96</th>\n",
       "      <th>building_97</th>\n",
       "      <th>building_98</th>\n",
       "      <th>building_99</th>\n",
       "      <th>building_100</th>\n",
       "      <th>building_101</th>\n",
       "      <th>building_102</th>\n",
       "      <th>building_103</th>\n",
       "      <th>building_104</th>\n",
       "      <th>building_105</th>\n",
       "    </tr>\n",
       "    <tr>\n",
       "      <th>Time</th>\n",
       "      <th></th>\n",
       "      <th></th>\n",
       "      <th></th>\n",
       "      <th></th>\n",
       "      <th></th>\n",
       "      <th></th>\n",
       "      <th></th>\n",
       "      <th></th>\n",
       "      <th></th>\n",
       "      <th></th>\n",
       "      <th></th>\n",
       "      <th></th>\n",
       "      <th></th>\n",
       "      <th></th>\n",
       "      <th></th>\n",
       "      <th></th>\n",
       "      <th></th>\n",
       "      <th></th>\n",
       "      <th></th>\n",
       "      <th></th>\n",
       "      <th></th>\n",
       "    </tr>\n",
       "  </thead>\n",
       "  <tbody>\n",
       "    <tr>\n",
       "      <th>2018-01-01 00:00:00</th>\n",
       "      <td>16.0</td>\n",
       "      <td>7.00</td>\n",
       "      <td>69.000003</td>\n",
       "      <td>45.600002</td>\n",
       "      <td>80.0</td>\n",
       "      <td>20.400001</td>\n",
       "      <td>50.1</td>\n",
       "      <td>60.0</td>\n",
       "      <td>56.0</td>\n",
       "      <td>12.600001</td>\n",
       "      <td>...</td>\n",
       "      <td>12.0</td>\n",
       "      <td>6.2</td>\n",
       "      <td>160.532151</td>\n",
       "      <td>21.000001</td>\n",
       "      <td>5.4</td>\n",
       "      <td>7.68</td>\n",
       "      <td>8.788643</td>\n",
       "      <td>20.0</td>\n",
       "      <td>24.600001</td>\n",
       "      <td>15.900001</td>\n",
       "    </tr>\n",
       "    <tr>\n",
       "      <th>2018-01-01 00:15:00</th>\n",
       "      <td>20.0</td>\n",
       "      <td>6.68</td>\n",
       "      <td>68.400003</td>\n",
       "      <td>40.800002</td>\n",
       "      <td>92.0</td>\n",
       "      <td>19.800001</td>\n",
       "      <td>50.7</td>\n",
       "      <td>56.0</td>\n",
       "      <td>60.0</td>\n",
       "      <td>14.100001</td>\n",
       "      <td>...</td>\n",
       "      <td>11.7</td>\n",
       "      <td>7.4</td>\n",
       "      <td>143.521595</td>\n",
       "      <td>21.000001</td>\n",
       "      <td>4.8</td>\n",
       "      <td>7.20</td>\n",
       "      <td>4.828815</td>\n",
       "      <td>20.4</td>\n",
       "      <td>25.200001</td>\n",
       "      <td>16.200001</td>\n",
       "    </tr>\n",
       "    <tr>\n",
       "      <th>2018-01-01 00:30:00</th>\n",
       "      <td>16.0</td>\n",
       "      <td>7.04</td>\n",
       "      <td>82.800003</td>\n",
       "      <td>45.600002</td>\n",
       "      <td>84.0</td>\n",
       "      <td>20.400001</td>\n",
       "      <td>50.4</td>\n",
       "      <td>56.0</td>\n",
       "      <td>104.0</td>\n",
       "      <td>15.000001</td>\n",
       "      <td>...</td>\n",
       "      <td>11.7</td>\n",
       "      <td>6.0</td>\n",
       "      <td>144.478405</td>\n",
       "      <td>21.000001</td>\n",
       "      <td>5.1</td>\n",
       "      <td>7.92</td>\n",
       "      <td>4.351567</td>\n",
       "      <td>19.6</td>\n",
       "      <td>25.200001</td>\n",
       "      <td>15.900001</td>\n",
       "    </tr>\n",
       "  </tbody>\n",
       "</table>\n",
       "<p>3 rows × 105 columns</p>\n",
       "</div>"
      ],
      "text/plain": [
       "                     building_1  building_2  building_3  building_4  \\\n",
       "Time                                                                  \n",
       "2018-01-01 00:00:00        16.0        7.00   69.000003   45.600002   \n",
       "2018-01-01 00:15:00        20.0        6.68   68.400003   40.800002   \n",
       "2018-01-01 00:30:00        16.0        7.04   82.800003   45.600002   \n",
       "\n",
       "                     building_5  building_6  building_7  building_8  \\\n",
       "Time                                                                  \n",
       "2018-01-01 00:00:00        80.0   20.400001        50.1        60.0   \n",
       "2018-01-01 00:15:00        92.0   19.800001        50.7        56.0   \n",
       "2018-01-01 00:30:00        84.0   20.400001        50.4        56.0   \n",
       "\n",
       "                     building_9  building_10  ...  building_96  building_97  \\\n",
       "Time                                          ...                             \n",
       "2018-01-01 00:00:00        56.0    12.600001  ...         12.0          6.2   \n",
       "2018-01-01 00:15:00        60.0    14.100001  ...         11.7          7.4   \n",
       "2018-01-01 00:30:00       104.0    15.000001  ...         11.7          6.0   \n",
       "\n",
       "                     building_98  building_99  building_100  building_101  \\\n",
       "Time                                                                        \n",
       "2018-01-01 00:00:00   160.532151    21.000001           5.4          7.68   \n",
       "2018-01-01 00:15:00   143.521595    21.000001           4.8          7.20   \n",
       "2018-01-01 00:30:00   144.478405    21.000001           5.1          7.92   \n",
       "\n",
       "                     building_102  building_103  building_104  building_105  \n",
       "Time                                                                         \n",
       "2018-01-01 00:00:00      8.788643          20.0     24.600001     15.900001  \n",
       "2018-01-01 00:15:00      4.828815          20.4     25.200001     16.200001  \n",
       "2018-01-01 00:30:00      4.351567          19.6     25.200001     15.900001  \n",
       "\n",
       "[3 rows x 105 columns]"
      ]
     },
     "execution_count": 4,
     "metadata": {},
     "output_type": "execute_result"
    }
   ],
   "source": [
    "# Import the columns indices that we need to use from external file...\n",
    "data_col = pd.read_csv('data/columns.csv', header=None)\n",
    "# ...and select only columns related to energy consumption\n",
    "# column 0 correspond to measurement time, all the others are single building measurenets\n",
    "energy_consumption_columns = np.concatenate(([0], np.hstack(data_col.to_numpy())))\n",
    "\n",
    "# Format raw dataset by:\n",
    "# 1) selecting only columns related to energy consumption \n",
    "# 2) casting index to datetime\n",
    "# 3) removing wrong measurements (duplicated rows, missing time records)\n",
    "# 4) dropping last 6 days in order to have complete weeks\n",
    "data_with_NaNs = format_data(data_raw, energy_consumption_columns)\n",
    "\n",
    "# Discard columns which contains more than max_NaNs, otherwise fill empty values with pd.fillna()\n",
    "# selected_columns is used to link results to the corresponding building in the raw dataset\n",
    "max_NaNs = 30\n",
    "data_no_NaNs, selected_columns = NaN_handling(data_with_NaNs, max_NaNs, energy_consumption_columns)\n",
    "\n",
    "# Discard columns representing small buildings (setting the threshold for the mean energy consupmtion)\n",
    "minimum_mean_energy_consumption = 10\n",
    "data_no_small, selected_columns = remove_small_buildings(data_no_NaNs, minimum_mean_energy_consumption, selected_columns)\n",
    "\n",
    "# Rename columns as \"building_\" + N, where N in [0, #columns-1]\n",
    "data_renumbered = renumber_columns(data_no_small)\n",
    "\n",
    "# Rename the processed dataset\n",
    "data = data_renumbered\n",
    "\n",
    "data.head(3)"
   ]
  },
  {
   "cell_type": "code",
   "execution_count": null,
   "metadata": {},
   "outputs": [],
   "source": []
  },
  {
   "cell_type": "code",
   "execution_count": 5,
   "metadata": {},
   "outputs": [
    {
     "data": {
      "text/html": [
       "<div>\n",
       "<style scoped>\n",
       "    .dataframe tbody tr th:only-of-type {\n",
       "        vertical-align: middle;\n",
       "    }\n",
       "\n",
       "    .dataframe tbody tr th {\n",
       "        vertical-align: top;\n",
       "    }\n",
       "\n",
       "    .dataframe thead th {\n",
       "        text-align: right;\n",
       "    }\n",
       "</style>\n",
       "<table border=\"1\" class=\"dataframe\">\n",
       "  <thead>\n",
       "    <tr style=\"text-align: right;\">\n",
       "      <th></th>\n",
       "      <th>consumption</th>\n",
       "      <th>week</th>\n",
       "    </tr>\n",
       "    <tr>\n",
       "      <th>Time</th>\n",
       "      <th></th>\n",
       "      <th></th>\n",
       "    </tr>\n",
       "  </thead>\n",
       "  <tbody>\n",
       "    <tr>\n",
       "      <th>2018-01-01 00:00:00</th>\n",
       "      <td>16.0</td>\n",
       "      <td>0</td>\n",
       "    </tr>\n",
       "    <tr>\n",
       "      <th>2018-01-01 00:15:00</th>\n",
       "      <td>20.0</td>\n",
       "      <td>0</td>\n",
       "    </tr>\n",
       "    <tr>\n",
       "      <th>2018-01-01 00:30:00</th>\n",
       "      <td>16.0</td>\n",
       "      <td>0</td>\n",
       "    </tr>\n",
       "  </tbody>\n",
       "</table>\n",
       "</div>"
      ],
      "text/plain": [
       "                     consumption  week\n",
       "Time                                  \n",
       "2018-01-01 00:00:00         16.0     0\n",
       "2018-01-01 00:15:00         20.0     0\n",
       "2018-01-01 00:30:00         16.0     0"
      ]
     },
     "execution_count": 5,
     "metadata": {},
     "output_type": "execute_result"
    }
   ],
   "source": [
    "# choiche of the building (i.e. the time series) to analyse, it must be an integer in range\n",
    "# [1, Total number of buildings]\n",
    "\n",
    "building_number = 1\n",
    "data_per_day = 96\n",
    "data_per_week = data_per_day*7\n",
    "\n",
    "# creation of new dataset containing only the energy consumption of one building\n",
    "# indexed on the time of the measurement.\n",
    "# for every measurement is indicated the number of the week from which it belongs\n",
    "energy_consumptions, total_weeks = create_single_building_dataframe(data, building_number, data_per_week)\n",
    "energy_consumptions.head(3)\n"
   ]
  },
  {
   "cell_type": "code",
   "execution_count": null,
   "metadata": {},
   "outputs": [],
   "source": []
  },
  {
   "cell_type": "markdown",
   "metadata": {},
   "source": [
    "----\n",
    "# 2. Grid search for DBSCAN parameter epsilon\n"
   ]
  },
  {
   "cell_type": "code",
   "execution_count": 6,
   "metadata": {},
   "outputs": [],
   "source": [
    "first_singular_value_multiplier = 0.012\n",
    "principal_components_number = 2\n",
    "\n",
    "# FT + PCA on selected building\n",
    "PCA_weeks, S = compressed_week_representation(energy_consumptions, principal_components_number, data_per_week, total_weeks)\n",
    "\n"
   ]
  },
  {
   "cell_type": "code",
   "execution_count": 14,
   "metadata": {},
   "outputs": [],
   "source": [
    "#parameters definition\n",
    "percentage_variation = 0.1\n",
    "total_iterations = 10\n",
    "clusters_number = []\n",
    "first_epsilon = S[0]*first_singular_value_multiplier*(1-percentage_variation)\n",
    "last_epsilon = S[0]*first_singular_value_multiplier*(1+percentage_variation)"
   ]
  },
  {
   "cell_type": "code",
   "execution_count": 13,
   "metadata": {},
   "outputs": [
    {
     "name": "stdout",
     "output_type": "stream",
     "text": [
      "Epsilon:  158.23846764136715\n",
      "Epsilon / S[0]:  0.010799999999999999\n",
      "Clusters number:  2\n"
     ]
    },
    {
     "data": {
      "image/png": "[encoded data removed]",
      "text/plain": [
       "<Figure size 432x288 with 1 Axes>"
      ]
     },
     "metadata": {
      "needs_background": "light"
     },
     "output_type": "display_data"
    },
    {
     "name": "stdout",
     "output_type": "stream",
     "text": [
      "Epsilon:  165.2712884254279\n",
      "Epsilon / S[0]:  0.011279999999999998\n",
      "Clusters number:  2\n"
     ]
    },
    {
     "data": {
      "image/png": "[encoded data removed]",
      "text/plain": [
       "<Figure size 432x288 with 1 Axes>"
      ]
     },
     "metadata": {
      "needs_background": "light"
     },
     "output_type": "display_data"
    },
    {
     "name": "stdout",
     "output_type": "stream",
     "text": [
      "Epsilon:  172.30410920948867\n",
      "Epsilon / S[0]:  0.011759999999999998\n",
      "Clusters number:  2\n"
     ]
    },
    {
     "data": {
      "image/png": "[encoded data removed]",
      "text/plain": [
       "<Figure size 432x288 with 1 Axes>"
      ]
     },
     "metadata": {
      "needs_background": "light"
     },
     "output_type": "display_data"
    },
    {
     "name": "stdout",
     "output_type": "stream",
     "text": [
      "Epsilon:  179.33692999354946\n",
      "Epsilon / S[0]:  0.012240000000000001\n",
      "Clusters number:  2\n"
     ]
    },
    {
     "data": {
      "image/png": "[encoded data removed]",
      "text/plain": [
       "<Figure size 432x288 with 1 Axes>"
      ]
     },
     "metadata": {
      "needs_background": "light"
     },
     "output_type": "display_data"
    },
    {
     "name": "stdout",
     "output_type": "stream",
     "text": [
      "Epsilon:  186.36975077761022\n",
      "Epsilon / S[0]:  0.01272\n",
      "Clusters number:  2\n"
     ]
    },
    {
     "data": {
      "image/png": "[encoded data removed]",
      "text/plain": [
       "<Figure size 432x288 with 1 Axes>"
      ]
     },
     "metadata": {
      "needs_background": "light"
     },
     "output_type": "display_data"
    },
    {
     "name": "stdout",
     "output_type": "stream",
     "text": [
      "Epsilon:  193.40257156167098\n",
      "Epsilon / S[0]:  0.0132\n",
      "Clusters number:  2\n"
     ]
    },
    {
     "data": {
      "image/png": "[encoded data removed]",
      "text/plain": [
       "<Figure size 432x288 with 1 Axes>"
      ]
     },
     "metadata": {
      "needs_background": "light"
     },
     "output_type": "display_data"
    }
   ],
   "source": [
    "for iteration, epsilon in enumerate(np.linspace(first_epsilon, last_epsilon, total_iterations).tolist()):\n",
    "    clustering = DBSCAN(eps=epsilon, min_samples=9).fit(PCA_weeks.T)\n",
    "    clusters_number.append(np.max(clustering.labels_)+1)\n",
    "    \n",
    "    # Assign each week to a cluster\n",
    "    max_cluster_index = np.max(clustering.labels_)\n",
    "    n_clusters = max_cluster_index + 1\n",
    "    clusters = []\n",
    "    for cluster_index in range(0, n_clusters):\n",
    "        clusters.append(clustering.labels_ == cluster_index)\n",
    "    outliers = clustering.labels_ == -1\n",
    "\n",
    "    # Reorder clusters based on their cardinality\n",
    "    # (the bigger one should contain normal weeks and will be plotted in blue; \n",
    "    # outliers are excluded, always plotted in black)\n",
    "    clusters_cardinalities = []\n",
    "    for i in range(0, len(clusters)):\n",
    "        clusters_cardinalities.append(clusters[i].sum())\n",
    "    sorted_indices = np.array(clusters_cardinalities).argsort().tolist()\n",
    "    ordered_clusters = []\n",
    "    for i in range(len(clusters)-1, -1, -1):\n",
    "        ordered_clusters.append(clusters[sorted_indices[i]])\n",
    "    \n",
    "    # Print parameters info and clustering coefficients\n",
    "    print(\"Epsilon: \", epsilon)\n",
    "    print(\"Epsilon / S[0]: \", epsilon / S[0])\n",
    "    print(\"Clusters number: \", clusters_number[iteration])\n",
    "    outliers_mask = clustering.labels_ == -1\n",
    "    inlier_PCA_weeks = PCA_weeks[:, ~outliers_mask]\n",
    "    inlier_labels = clustering.labels_[~outliers_mask]\n",
    "\n",
    "    # Scatterplot the result\n",
    "    for cluster_index in range(0, max_cluster_index+1):\n",
    "        plt.scatter(PCA_weeks[0, ordered_clusters[cluster_index]], PCA_weeks[1, ordered_clusters[cluster_index]])\n",
    "    plt.scatter(PCA_weeks[0, outliers], PCA_weeks[1, outliers], color='black')\n",
    "    plt.show()"
   ]
  },
  {
   "cell_type": "code",
   "execution_count": null,
   "metadata": {},
   "outputs": [],
   "source": []
  },
  {
   "cell_type": "code",
   "execution_count": null,
   "metadata": {},
   "outputs": [],
   "source": []
  },
  {
   "cell_type": "code",
   "execution_count": null,
   "metadata": {},
   "outputs": [],
   "source": []
  },
  {
   "cell_type": "code",
   "execution_count": null,
   "metadata": {},
   "outputs": [],
   "source": []
  },
  {
   "cell_type": "code",
   "execution_count": null,
   "metadata": {},
   "outputs": [],
   "source": []
  },
  {
   "cell_type": "code",
   "execution_count": null,
   "metadata": {},
   "outputs": [],
   "source": []
  }
 ],
 "metadata": {
  "kernelspec": {
   "display_name": "Python 3",
   "language": "python",
   "name": "python3"
  },
  "language_info": {
   "codemirror_mode": {
    "name": "ipython",
    "version": 3
   },
   "file_extension": ".py",
   "mimetype": "text/x-python",
   "name": "python",
   "nbconvert_exporter": "python",
   "pygments_lexer": "ipython3",
   "version": "3.7.2"
  }
 },
 "nbformat": 4,
 "nbformat_minor": 2
}
